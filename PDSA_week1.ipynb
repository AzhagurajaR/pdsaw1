{
  "nbformat": 4,
  "nbformat_minor": 0,
  "metadata": {
    "colab": {
      "provenance": [],
      "authorship_tag": "ABX9TyOXmjaSWlMZjscAuiXOTiM6",
      "include_colab_link": true
    },
    "kernelspec": {
      "name": "python3",
      "display_name": "Python 3"
    },
    "language_info": {
      "name": "python"
    }
  },
  "cells": [
    {
      "cell_type": "markdown",
      "metadata": {
        "id": "view-in-github",
        "colab_type": "text"
      },
      "source": [
        "<a href=\"https://colab.research.google.com/github/AzhagurajaR/pdsaw1/blob/main/PDSA_week1.ipynb\" target=\"_parent\"><img src=\"https://colab.research.google.com/assets/colab-badge.svg\" alt=\"Open In Colab\"/></a>"
      ]
    },
    {
      "cell_type": "code",
      "execution_count": null,
      "metadata": {
        "id": "gb_yeJnZKwmJ"
      },
      "outputs": [],
      "source": [
        "def odd_one(L):\n",
        "    l = []\n",
        "    for i in L:\n",
        "        l.append(type(i))\n",
        "    for i in range(len(l)):\n",
        "        if l.count(l[i]) == 1:\n",
        "            return l[i]"
      ]
    },
    {
      "cell_type": "code",
      "source": [
        "odd_one([2,13,16,4.5])"
      ],
      "metadata": {
        "colab": {
          "base_uri": "https://localhost:8080/"
        },
        "id": "3YLsQ6MLLAH7",
        "outputId": "defa4fcf-31c7-4a56-affd-d798d7717198"
      },
      "execution_count": null,
      "outputs": [
        {
          "output_type": "execute_result",
          "data": {
            "text/plain": [
              "float"
            ]
          },
          "metadata": {},
          "execution_count": 16
        }
      ]
    },
    {
      "cell_type": "code",
      "source": [
        "def prime(n):\n",
        "    l = []\n",
        "    for num in range(n):\n",
        "        if num > 1:\n",
        "            for i in range(2, num):\n",
        "                if num % i == 0:\n",
        "                    break\n",
        "            else:\n",
        "                l.append(num)\n",
        "    return l"
      ],
      "metadata": {
        "id": "z-3MPvCzLDDp"
      },
      "execution_count": null,
      "outputs": []
    },
    {
      "cell_type": "code",
      "source": [
        "prime(10)"
      ],
      "metadata": {
        "colab": {
          "base_uri": "https://localhost:8080/"
        },
        "id": "ltdbqtHbTeCb",
        "outputId": "b1e2f5c1-174d-436e-d421-1c539bbc6dcc"
      },
      "execution_count": null,
      "outputs": [
        {
          "output_type": "execute_result",
          "data": {
            "text/plain": [
              "[2, 3, 5, 7]"
            ]
          },
          "metadata": {},
          "execution_count": 28
        }
      ]
    },
    {
      "cell_type": "code",
      "source": [
        "def subset_list(L, P):\n",
        "    l = [[]]\n",
        "    k = []\n",
        "    m = []\n",
        "    for i in range(len(L)+1):\n",
        "        for j in range(i):\n",
        "            l.append(L[j:i])\n",
        "    for i in l:\n",
        "        if len(i) == P:\n",
        "            m.append(i)\n",
        "            l.remove(i)\n",
        "    for j in l:\n",
        "        if len(j) > P and len(j) < len(L):\n",
        "            k.append(j)\n",
        "            l.remove(j)\n",
        "    for item in k:\n",
        "        return subset_list(item, P)\n",
        "        k.remove(item)\n",
        "    if k == []:\n",
        "        return m"
      ],
      "metadata": {
        "id": "56UUm2ArTfWV"
      },
      "execution_count": null,
      "outputs": []
    },
    {
      "cell_type": "code",
      "source": [
        "subset_list([3,4,1,9,56,7,9,12],5)"
      ],
      "metadata": {
        "colab": {
          "base_uri": "https://localhost:8080/"
        },
        "id": "Zy8R2aKIbwCS",
        "outputId": "d8b8a270-8702-4a28-8053-d4be57ec1493"
      },
      "execution_count": null,
      "outputs": [
        {
          "output_type": "execute_result",
          "data": {
            "text/plain": [
              "[[3, 4, 1, 9, 56], [4, 1, 9, 56, 7]]"
            ]
          },
          "metadata": {},
          "execution_count": 69
        }
      ]
    },
    {
      "cell_type": "code",
      "source": [
        "def find_Min_Difference(L,P):\n",
        "    diff = []\n",
        "    sub = subset_list(L)\n",
        "    for i in range(len(sub)):\n",
        "        if len(sub[i]) == P:\n",
        "            diff.append(max(sub[i]) - min(sub[i]))\n",
        "    return min(diff)"
      ],
      "metadata": {
        "id": "8VdGrT7Ob0d9"
      },
      "execution_count": null,
      "outputs": []
    },
    {
      "cell_type": "code",
      "source": [
        "find_Min_Difference([3,4,1,9,56,7,9,12],5)"
      ],
      "metadata": {
        "colab": {
          "base_uri": "https://localhost:8080/"
        },
        "id": "jVULl68JeWNi",
        "outputId": "797ba840-7fd0-485e-d6da-a26ccc080453"
      },
      "execution_count": null,
      "outputs": [
        {
          "output_type": "execute_result",
          "data": {
            "text/plain": [
              "49"
            ]
          },
          "metadata": {},
          "execution_count": 49
        }
      ]
    },
    {
      "cell_type": "code",
      "source": [
        "class Triangle:\n",
        "    def __init__(self, a, b, c):\n",
        "        self.a = a\n",
        "        self.b = b\n",
        "        self.c = c\n",
        "\n",
        "    def Is_valid(self):\n",
        "        if self.a + self.b > self.c:\n",
        "            if self.a + self.c > self.b:\n",
        "                if self.b + self.c > self.a:\n",
        "                    return 'Valid'\n",
        "        return 'Invalid'\n",
        "\n",
        "    def Side_Classification(self):\n",
        "        if self.Is_valid() == 'Invalid':\n",
        "            return 'Invalid'\n",
        "        elif self.a == self.b == self.c:\n",
        "            return 'Equilateral'\n",
        "        elif self.a == self.b or self.b == self.c or self.a == self.c:\n",
        "            return 'Isosceles'\n",
        "        elif self.a != self.b != self.c:\n",
        "            return 'Scalene'\n",
        "\n",
        "    def Angle_Classification(self):\n",
        "        l = [self.a,self.b,self.c]\n",
        "        l.sort()\n",
        "        x,y,z = l[0], l[1], l[2]\n",
        "        if self.Is_valid() == 'Invalid':\n",
        "            return 'Invalid'\n",
        "        elif x**2 + y**2 > z**2:\n",
        "            return 'Acute'\n",
        "        elif x**2 + y**2 == z**2:\n",
        "            return 'Right'\n",
        "        elif x**2 + y**2 < z**2:\n",
        "            return 'Obtuse'\n",
        "\n",
        "    def Area(self):\n",
        "        s = (self.a + self.b + self.c) / 2\n",
        "        if self.Is_valid() == 'Invalid':\n",
        "            return 'Invalid'\n",
        "        else:\n",
        "            return (s*(s-self.a)*(s-self.b)*(s-self.c))**0.5"
      ],
      "metadata": {
        "id": "ln16ZmrTeZNn"
      },
      "execution_count": null,
      "outputs": []
    },
    {
      "cell_type": "code",
      "source": [
        "a=int(input())\n",
        "b=int(input())\n",
        "c=int(input())\n",
        "T=Triangle(a,b,c)\n",
        "print(T.Is_valid())\n",
        "print(T.Side_Classification())\n",
        "print(T.Angle_Classification())\n",
        "print(T.Area())"
      ],
      "metadata": {
        "colab": {
          "base_uri": "https://localhost:8080/"
        },
        "id": "fWOGf8f8AtYO",
        "outputId": "d1a772e9-b879-431b-ddc0-2781cb230bfe"
      },
      "execution_count": null,
      "outputs": [
        {
          "output_type": "stream",
          "name": "stdout",
          "text": [
            "10\n",
            "3\n",
            "5\n",
            "Invalid\n",
            "Invalid\n",
            "Invalid\n",
            "Invalid\n"
          ]
        }
      ]
    },
    {
      "cell_type": "code",
      "source": [
        "def subset_list(L):\n",
        "    l = [[]]\n",
        "    for i in range(len(L)):\n",
        "        l.append([L[i]])\n",
        "    for i in range(len(L)-1):\n",
        "        l.append([L[i:i+2]])\n",
        "    for i in range(len(L)-2):\n",
        "        l.append([L[i:i+3]])\n",
        "    return l"
      ],
      "metadata": {
        "id": "mVTGrs4FFLXX"
      },
      "execution_count": null,
      "outputs": []
    },
    {
      "cell_type": "code",
      "source": [
        "subset_list([3,4,1,9,56,7,9,12])"
      ],
      "metadata": {
        "colab": {
          "base_uri": "https://localhost:8080/"
        },
        "id": "fBvuju2WHqyP",
        "outputId": "dd55cea3-cb4b-49d2-89cb-8c1e042dfe83"
      },
      "execution_count": null,
      "outputs": [
        {
          "output_type": "execute_result",
          "data": {
            "text/plain": [
              "[[],\n",
              " [3],\n",
              " [4],\n",
              " [1],\n",
              " [9],\n",
              " [56],\n",
              " [7],\n",
              " [9],\n",
              " [12],\n",
              " [[3, 4]],\n",
              " [[4, 1]],\n",
              " [[1, 9]],\n",
              " [[9, 56]],\n",
              " [[56, 7]],\n",
              " [[7, 9]],\n",
              " [[9, 12]],\n",
              " [[3, 4, 1]],\n",
              " [[4, 1, 9]],\n",
              " [[1, 9, 56]],\n",
              " [[9, 56, 7]],\n",
              " [[56, 7, 9]],\n",
              " [[7, 9, 12]]]"
            ]
          },
          "metadata": {},
          "execution_count": 98
        }
      ]
    },
    {
      "cell_type": "code",
      "source": [
        "def subset_list(L):\n",
        "    l = [[]]\n",
        "    q = 0\n",
        "    while q != len(L):\n",
        "        for i in range(len(L)+1-q):\n",
        "            l.append(L[i:i+q])\n",
        "        for i in range(len(L)+1-q):\n",
        "            l.append([L.remove(L[q%len(L)])][i:i+q])\n",
        "        q += 1\n",
        "    return l"
      ],
      "metadata": {
        "id": "fQb8XOlGHuhi"
      },
      "execution_count": null,
      "outputs": []
    },
    {
      "cell_type": "code",
      "source": [
        "subset_list([3,4,1,9,56,7,9,12])"
      ],
      "metadata": {
        "id": "btOoNMbOLtl3"
      },
      "execution_count": null,
      "outputs": []
    },
    {
      "cell_type": "code",
      "source": [
        "L = [3,4,1,9,56,7,9,12]"
      ],
      "metadata": {
        "id": "eZACr8oGzpVp"
      },
      "execution_count": null,
      "outputs": []
    },
    {
      "cell_type": "code",
      "source": [
        "def reverse(L):\n",
        "    n = len(L)\n",
        "    l = []\n",
        "    for i in range(-1, -n-1, -1):\n",
        "        l.append(L[i])\n",
        "    return l"
      ],
      "metadata": {
        "id": "13fQu-JaHLyi"
      },
      "execution_count": null,
      "outputs": []
    },
    {
      "cell_type": "code",
      "source": [
        "def subset(L, p):\n",
        "    n = len(L)\n",
        "    c = [i for i in range(n-p)]\n",
        "    l,s,s1,l_new = [], 0,0, []\n",
        "    s2,s3 = 0,0\n",
        "    for i in range(n):\n",
        "        l.append(L[i:(i+p)])\n",
        "    while s < n:\n",
        "        for i in range(s+1, n):\n",
        "            l.append([L[s]] + L[i+1:(i+p)])\n",
        "        s += 1\n",
        "    while s1 < n:\n",
        "        for i in range(s1+2, n):\n",
        "            l.append([L[s1]] + L[i+1:(i+p)])\n",
        "        s1 += 1\n",
        "    while s2 < n:\n",
        "        for i in range(s2+3, n):\n",
        "            l.append([L[s2]] + L[i+1:(i+p)])\n",
        "        s2 += 1\n",
        "    while s3 < n:\n",
        "        for i in range(s3+4, n):\n",
        "            l.append([L[s3]] + L[i+1:(i+p)])\n",
        "        s3 += 1\n",
        "    for i in l:\n",
        "        if len(i) == p:\n",
        "            l_new.append(i)\n",
        "    return l_new"
      ],
      "metadata": {
        "id": "bXip-e5WLxdQ"
      },
      "execution_count": null,
      "outputs": []
    },
    {
      "cell_type": "code",
      "source": [
        "subset([1,2,3,-4,3,2,1,5,-6,7,8,9,10],6)"
      ],
      "metadata": {
        "id": "jeBkYzxvGMWC"
      },
      "execution_count": null,
      "outputs": []
    },
    {
      "cell_type": "code",
      "source": [
        "def find_Min_Difference(L,P):\n",
        "    m = []\n",
        "    K = reverse(L)\n",
        "    g = subset(L,P) + subset(K,P)\n",
        "    for i in g:\n",
        "        m.append(max(i)-min(i))\n",
        "    return min(m)"
      ],
      "metadata": {
        "id": "50Nfbkt00rke"
      },
      "execution_count": null,
      "outputs": []
    },
    {
      "cell_type": "code",
      "source": [
        "find_Min_Difference([3,4,1,9,56,7,9,12],5)"
      ],
      "metadata": {
        "colab": {
          "base_uri": "https://localhost:8080/"
        },
        "id": "PMxeoK5r73mO",
        "outputId": "d076884e-128e-46dd-9075-dfd23848374f"
      },
      "execution_count": null,
      "outputs": [
        {
          "output_type": "execute_result",
          "data": {
            "text/plain": [
              "8"
            ]
          },
          "metadata": {},
          "execution_count": 70
        }
      ]
    },
    {
      "cell_type": "code",
      "source": [
        "def subset(L, p):\n",
        "    n = len(L)\n",
        "    l,s,s1,s2,s3 = [],0,0,0,0\n",
        "    c = [i+1 for i in range(n-p)]\n",
        "    for i in range(n):\n",
        "        l.append(L[i:(i+p)])\n",
        "    while s1 < n:\n",
        "        while s < n:\n",
        "            for i in range(s+1, n):\n",
        "                l.append([L[s]] + L[i+1:(i+p)])\n",
        "            s += 1\n",
        "        while s2 < n:\n",
        "            for i in range(s2+1, n):\n",
        "                l.append([L[s2:s2+2]] + L[i+1:(i+p)])\n",
        "            s2 += 1\n",
        "        s1 += 1"
      ],
      "metadata": {
        "id": "7kGkJB9CJt99"
      },
      "execution_count": null,
      "outputs": []
    },
    {
      "cell_type": "code",
      "source": [
        "def fibo(n):\n",
        "    a = 5 ** 0.5\n",
        "    fibo = (1 / a) * ((1 + a) / 2) ** n\n",
        "    return (fibo)"
      ],
      "metadata": {
        "id": "OnErUyh6Lu41"
      },
      "execution_count": null,
      "outputs": []
    },
    {
      "cell_type": "code",
      "source": [
        "fibo(4)"
      ],
      "metadata": {
        "colab": {
          "base_uri": "https://localhost:8080/"
        },
        "id": "9IK-zx4kMme8",
        "outputId": "4d3eb1d3-07ef-4c96-c469-5f8903240c79"
      },
      "execution_count": null,
      "outputs": [
        {
          "output_type": "execute_result",
          "data": {
            "text/plain": [
              "4"
            ]
          },
          "metadata": {},
          "execution_count": 17
        }
      ]
    },
    {
      "cell_type": "code",
      "source": [
        "def check(n):\n",
        "    while n != 0: # loop continues until n becomes zero\n",
        "        d = n % 10 # reminder of n becomes d\n",
        "        if d % 2 != 1: # if d is even number, False is returned\n",
        "            return False\n",
        "        n = n // 10 # one digit of n is reduced\n",
        "    return True # evey digit of n should be odd number"
      ],
      "metadata": {
        "id": "5IB5ADwyMuWk"
      },
      "execution_count": null,
      "outputs": []
    },
    {
      "cell_type": "code",
      "source": [
        "check(111111)"
      ],
      "metadata": {
        "colab": {
          "base_uri": "https://localhost:8080/"
        },
        "id": "fnstgJyov7Gi",
        "outputId": "e4d1cfe8-a4d1-4c89-f7c3-569d274bd7de"
      },
      "execution_count": null,
      "outputs": [
        {
          "output_type": "execute_result",
          "data": {
            "text/plain": [
              "True"
            ]
          },
          "metadata": {},
          "execution_count": 2
        }
      ]
    },
    {
      "cell_type": "code",
      "source": [
        "check(121111)"
      ],
      "metadata": {
        "colab": {
          "base_uri": "https://localhost:8080/"
        },
        "id": "i_0IupDEwnfR",
        "outputId": "7cb3dbf9-0ab8-4677-93ec-1bbf87885fc9"
      },
      "execution_count": null,
      "outputs": [
        {
          "output_type": "execute_result",
          "data": {
            "text/plain": [
              "False"
            ]
          },
          "metadata": {},
          "execution_count": 3
        }
      ]
    },
    {
      "cell_type": "code",
      "source": [
        "x = range(5)\n",
        "s = 0\n",
        "for i in x:\n",
        "    s += i\n",
        "i"
      ],
      "metadata": {
        "colab": {
          "base_uri": "https://localhost:8080/"
        },
        "id": "2xmwnmwXwpwT",
        "outputId": "d6290cca-31bd-442e-9ac7-b10f03354134"
      },
      "execution_count": null,
      "outputs": [
        {
          "output_type": "execute_result",
          "data": {
            "text/plain": [
              "4"
            ]
          },
          "metadata": {},
          "execution_count": 7
        }
      ]
    },
    {
      "cell_type": "code",
      "source": [
        "def fun(S):\n",
        "    p = 0\n",
        "    S = S.lower()\n",
        "    for i in range(len(S)):\n",
        "        if S[i] not in S[:i]:\n",
        "            p += 1\n",
        "    return p"
      ],
      "metadata": {
        "id": "HIFDKsGyxFod"
      },
      "execution_count": null,
      "outputs": []
    },
    {
      "cell_type": "code",
      "source": [
        "fun('Amma'), fun('Kaviya sree'), fun('kavin')"
      ],
      "metadata": {
        "colab": {
          "base_uri": "https://localhost:8080/"
        },
        "id": "4WYN-Zpb0HKz",
        "outputId": "5b48dff6-63db-461f-ee73-0696e9e7def8"
      },
      "execution_count": null,
      "outputs": [
        {
          "output_type": "execute_result",
          "data": {
            "text/plain": [
              "(2, 9, 5)"
            ]
          },
          "metadata": {},
          "execution_count": 15
        }
      ]
    },
    {
      "cell_type": "code",
      "source": [
        "def f(n):\n",
        "    s = 0\n",
        "    for i in range(2, n):\n",
        "        if n % i == 0 and i % 2 == 1:\n",
        "            s += 1\n",
        "    return s"
      ],
      "metadata": {
        "id": "TCzLGHEK0Kz-"
      },
      "execution_count": null,
      "outputs": []
    },
    {
      "cell_type": "code",
      "source": [
        "f(60) - f(59)"
      ],
      "metadata": {
        "colab": {
          "base_uri": "https://localhost:8080/"
        },
        "id": "ABE35sV21i58",
        "outputId": "13d17efb-5589-4197-d1ca-56b6b7e38ac8"
      },
      "execution_count": null,
      "outputs": [
        {
          "output_type": "execute_result",
          "data": {
            "text/plain": [
              "3"
            ]
          },
          "metadata": {},
          "execution_count": 17
        }
      ]
    },
    {
      "cell_type": "code",
      "source": [
        "f(60)"
      ],
      "metadata": {
        "colab": {
          "base_uri": "https://localhost:8080/"
        },
        "id": "qmMWHxJq1qQu",
        "outputId": "777567cc-4ec6-430a-a74c-d268b1051d1e"
      },
      "execution_count": null,
      "outputs": [
        {
          "output_type": "execute_result",
          "data": {
            "text/plain": [
              "3"
            ]
          },
          "metadata": {},
          "execution_count": 18
        }
      ]
    },
    {
      "cell_type": "code",
      "source": [
        "f(59)"
      ],
      "metadata": {
        "colab": {
          "base_uri": "https://localhost:8080/"
        },
        "id": "AFqsShJI12_J",
        "outputId": "19f3c055-1916-4a6f-d4a1-1e374af94504"
      },
      "execution_count": null,
      "outputs": [
        {
          "output_type": "execute_result",
          "data": {
            "text/plain": [
              "0"
            ]
          },
          "metadata": {},
          "execution_count": 19
        }
      ]
    },
    {
      "cell_type": "code",
      "source": [
        "x = 1\n",
        "while True:\n",
        "    if x % 5 = = 0:\n",
        "        break\n",
        "    print(x, end= ' ')\n",
        "    x += 1"
      ],
      "metadata": {
        "colab": {
          "base_uri": "https://localhost:8080/",
          "height": 135
        },
        "id": "8osJMVWP14vh",
        "outputId": "b319bd69-01e9-4c83-e6c6-452a85642483"
      },
      "execution_count": null,
      "outputs": [
        {
          "output_type": "error",
          "ename": "SyntaxError",
          "evalue": "ignored",
          "traceback": [
            "\u001b[0;36m  File \u001b[0;32m\"<ipython-input-20-c50534cf5c1b>\"\u001b[0;36m, line \u001b[0;32m3\u001b[0m\n\u001b[0;31m    if x % 5 = = 0:\u001b[0m\n\u001b[0m             ^\u001b[0m\n\u001b[0;31mSyntaxError\u001b[0m\u001b[0;31m:\u001b[0m invalid syntax\n"
          ]
        }
      ]
    },
    {
      "cell_type": "code",
      "source": [
        "class Person:\n",
        "    def __init__(self, name):\n",
        "        self.name = name\n",
        "    def say_hi(self):\n",
        "        print('Hello,', self.name)\n",
        ""
      ],
      "metadata": {
        "id": "pAs1NsdL2lib"
      },
      "execution_count": null,
      "outputs": []
    },
    {
      "cell_type": "code",
      "source": [
        "p = Person('Good Morning')\n",
        "p.say_hi()"
      ],
      "metadata": {
        "colab": {
          "base_uri": "https://localhost:8080/"
        },
        "id": "E11PG1gb3Mgb",
        "outputId": "101a0855-d8ff-4f24-afe5-3968e601bd7b"
      },
      "execution_count": null,
      "outputs": [
        {
          "output_type": "stream",
          "name": "stdout",
          "text": [
            "Hello, Good Morning\n"
          ]
        }
      ]
    },
    {
      "cell_type": "code",
      "source": [
        "a = [1, 2, 3]\n",
        "try:\n",
        "    print('Second Element = %d' %(a[1]))\n",
        "    print('Fourth Elelment = %d' %(a[3]))\n",
        "except:\n",
        "    print('An error occured')"
      ],
      "metadata": {
        "colab": {
          "base_uri": "https://localhost:8080/"
        },
        "id": "3F01hN5d3T44",
        "outputId": "98e79688-3b09-4dfb-8bca-8c465a530572"
      },
      "execution_count": null,
      "outputs": [
        {
          "output_type": "stream",
          "name": "stdout",
          "text": [
            "Second Element = 2\n",
            "An error occured\n"
          ]
        }
      ]
    },
    {
      "cell_type": "code",
      "source": [
        "def special3bad(L):\n",
        "    try:\n",
        "        if L[0] % L[1] == 0:\n",
        "            if L[0] / (L[1]**2-L[2]) == 0:\n",
        "                return True\n",
        "        return False\n",
        "    except ZeroDivisionError:\n",
        "        print('ZeroDivisionError')\n",
        "    except:\n",
        "        print('some other exception occured')\n",
        "    else:\n",
        "        print('No exception occured')\n"
      ],
      "metadata": {
        "id": "nxb9DF0vFSPO"
      },
      "execution_count": null,
      "outputs": []
    },
    {
      "cell_type": "code",
      "source": [
        "special3bad([4, 2, 8])"
      ],
      "metadata": {
        "colab": {
          "base_uri": "https://localhost:8080/"
        },
        "id": "mOl5Hgm_GwST",
        "outputId": "3e47546a-f9d2-45d9-fa83-c2deae7572c5"
      },
      "execution_count": null,
      "outputs": [
        {
          "output_type": "execute_result",
          "data": {
            "text/plain": [
              "False"
            ]
          },
          "metadata": {},
          "execution_count": 29
        }
      ]
    },
    {
      "cell_type": "code",
      "source": [
        "special3bad([4, 2, 4])"
      ],
      "metadata": {
        "colab": {
          "base_uri": "https://localhost:8080/"
        },
        "id": "NpMMy7KuHGeD",
        "outputId": "d9543df3-3575-4099-9522-5244a0596aec"
      },
      "execution_count": null,
      "outputs": [
        {
          "output_type": "stream",
          "name": "stdout",
          "text": [
            "ZeroDivisionError\n"
          ]
        }
      ]
    },
    {
      "cell_type": "code",
      "source": [
        "special3bad([8, 4, 16])"
      ],
      "metadata": {
        "colab": {
          "base_uri": "https://localhost:8080/"
        },
        "id": "RpqZmsT1HJUr",
        "outputId": "fc2531df-beb8-4748-aa2c-2211bc069428"
      },
      "execution_count": null,
      "outputs": [
        {
          "output_type": "stream",
          "name": "stdout",
          "text": [
            "ZeroDivisionError\n"
          ]
        }
      ]
    },
    {
      "cell_type": "code",
      "source": [
        "special3bad([48, 6, 36])"
      ],
      "metadata": {
        "colab": {
          "base_uri": "https://localhost:8080/"
        },
        "id": "CfYxQAW0HM2M",
        "outputId": "ae5abb56-029e-4c8f-b342-ee5c515a4815"
      },
      "execution_count": null,
      "outputs": [
        {
          "output_type": "stream",
          "name": "stdout",
          "text": [
            "ZeroDivisionError\n"
          ]
        }
      ]
    },
    {
      "cell_type": "code",
      "source": [
        "special3bad([44, 6, 36])"
      ],
      "metadata": {
        "colab": {
          "base_uri": "https://localhost:8080/"
        },
        "id": "GQn-uQoZHQxf",
        "outputId": "bdfab674-ce57-4462-c615-cf3bba4bddf0"
      },
      "execution_count": null,
      "outputs": [
        {
          "output_type": "execute_result",
          "data": {
            "text/plain": [
              "False"
            ]
          },
          "metadata": {},
          "execution_count": 33
        }
      ]
    },
    {
      "cell_type": "code",
      "source": [
        "def isSymmetricBad(L):\n",
        "    try:\n",
        "        while len(L) > 0:\n",
        "            if L.pop(0) != L.pop(-1):\n",
        "                return False\n",
        "            return True\n",
        "    except IndexError:\n",
        "        print('IndexError')\n",
        "    except:\n",
        "        print('Some other exception error')\n",
        "    else:\n",
        "        print('No exception error occured')"
      ],
      "metadata": {
        "id": "_WS8pNNTHT6W"
      },
      "execution_count": null,
      "outputs": []
    },
    {
      "cell_type": "code",
      "source": [
        "isSymmetricBad([1, 2, 3, 4, 3, 2, 1])"
      ],
      "metadata": {
        "colab": {
          "base_uri": "https://localhost:8080/"
        },
        "id": "-0T2i6D0IXTg",
        "outputId": "c58d4189-d54b-48c9-a4e2-ac5c34c34da4"
      },
      "execution_count": null,
      "outputs": [
        {
          "output_type": "execute_result",
          "data": {
            "text/plain": [
              "True"
            ]
          },
          "metadata": {},
          "execution_count": 35
        }
      ]
    },
    {
      "cell_type": "code",
      "source": [
        "isSymmetricBad([2, 2, 2, 2, 2, 2])"
      ],
      "metadata": {
        "colab": {
          "base_uri": "https://localhost:8080/"
        },
        "id": "wz6yDzrsIkVy",
        "outputId": "d0e4deaf-31ef-414c-835d-925b1cbe0f0c"
      },
      "execution_count": null,
      "outputs": [
        {
          "output_type": "execute_result",
          "data": {
            "text/plain": [
              "True"
            ]
          },
          "metadata": {},
          "execution_count": 36
        }
      ]
    },
    {
      "cell_type": "code",
      "source": [
        "isSymmetricBad([1, 1, 1, 1, 1, 1, 1])"
      ],
      "metadata": {
        "colab": {
          "base_uri": "https://localhost:8080/"
        },
        "id": "Dg-sUngcIv52",
        "outputId": "6e80453c-9b3c-4116-f337-ed8815e08cd9"
      },
      "execution_count": null,
      "outputs": [
        {
          "output_type": "execute_result",
          "data": {
            "text/plain": [
              "True"
            ]
          },
          "metadata": {},
          "execution_count": 37
        }
      ]
    },
    {
      "cell_type": "code",
      "source": [
        "isSymmetricBad([8])"
      ],
      "metadata": {
        "colab": {
          "base_uri": "https://localhost:8080/"
        },
        "id": "Qv4i8KRGIwmV",
        "outputId": "41cdd424-bdfa-4240-cb67-b3e7a932cc83"
      },
      "execution_count": null,
      "outputs": [
        {
          "output_type": "stream",
          "name": "stdout",
          "text": [
            "IndexError\n"
          ]
        }
      ]
    },
    {
      "cell_type": "code",
      "source": [
        "isSymmetricBad([2, 4, 6])"
      ],
      "metadata": {
        "colab": {
          "base_uri": "https://localhost:8080/"
        },
        "id": "Za9z-RQDIxNs",
        "outputId": "78d3a0b1-1044-4e80-875b-e5549a7d475e"
      },
      "execution_count": null,
      "outputs": [
        {
          "output_type": "execute_result",
          "data": {
            "text/plain": [
              "False"
            ]
          },
          "metadata": {},
          "execution_count": 39
        }
      ]
    },
    {
      "cell_type": "code",
      "source": [
        "def gcd(m, n):\n",
        "    (a, b) = (max(m, n), min(m, n))\n",
        "    if a % b == 0:\n",
        "        return b\n",
        "    else:\n",
        "        return gcd(b, a%b)"
      ],
      "metadata": {
        "id": "C9oqerdHJDtR"
      },
      "execution_count": null,
      "outputs": []
    },
    {
      "cell_type": "code",
      "source": [
        "gcd(24, 130)"
      ],
      "metadata": {
        "colab": {
          "base_uri": "https://localhost:8080/"
        },
        "id": "q7oXLOarJoE1",
        "outputId": "9a446336-5ceb-4949-ee16-4617bd6094b3"
      },
      "execution_count": null,
      "outputs": [
        {
          "output_type": "execute_result",
          "data": {
            "text/plain": [
              "2"
            ]
          },
          "metadata": {},
          "execution_count": 41
        }
      ]
    },
    {
      "cell_type": "code",
      "source": [
        "class Enrollment:\n",
        "    count = 0\n",
        "    def __init__(self, n, c):\n",
        "        self.name = n\n",
        "        self.course = c\n",
        "        Enrollment.count += 1\n",
        "    def display(self):\n",
        "        print(self.name)\n",
        "        print(self.course)"
      ],
      "metadata": {
        "id": "dUYuAKFIJr7v"
      },
      "execution_count": null,
      "outputs": []
    },
    {
      "cell_type": "code",
      "source": [
        "def subset(L, P):\n",
        "    l = sorted(L)\n",
        "    g = []\n",
        "    for i in range(len(L)):\n",
        "        if P+i < len(L):\n",
        "            g.append(l[i:P+i])\n",
        "    return g"
      ],
      "metadata": {
        "id": "3NfLzfhFL93K"
      },
      "execution_count": null,
      "outputs": []
    },
    {
      "cell_type": "code",
      "source": [
        "subset([3,4,1,9,56,7,9,12], 5)"
      ],
      "metadata": {
        "colab": {
          "base_uri": "https://localhost:8080/"
        },
        "id": "HAdWuokW5-ij",
        "outputId": "cdd49793-4808-4a3f-dd35-4f2460b221d1"
      },
      "execution_count": null,
      "outputs": [
        {
          "output_type": "execute_result",
          "data": {
            "text/plain": [
              "[[1, 3, 4, 7, 9], [3, 4, 7, 9, 9], [4, 7, 9, 9, 12]]"
            ]
          },
          "metadata": {},
          "execution_count": 49
        }
      ]
    },
    {
      "cell_type": "code",
      "source": [
        "def find_Min_Difference(L, P):\n",
        "    a = []\n",
        "    l = sorted(L)\n",
        "    for i in range(len(L)):\n",
        "        if P+i < len(L):\n",
        "            a.append(abs(l[i] - l[P+i-1]))\n",
        "    return min(a)"
      ],
      "metadata": {
        "id": "-m0VWGfc6God"
      },
      "execution_count": null,
      "outputs": []
    },
    {
      "cell_type": "code",
      "source": [
        "sorted([3,4,1,9,56,7,9,12])"
      ],
      "metadata": {
        "colab": {
          "base_uri": "https://localhost:8080/"
        },
        "id": "5gBYB4PO-cf-",
        "outputId": "448accd7-cb51-4c7c-de77-c58cd842db8b"
      },
      "execution_count": null,
      "outputs": [
        {
          "output_type": "execute_result",
          "data": {
            "text/plain": [
              "[1, 3, 4, 7, 9, 9, 12, 56]"
            ]
          },
          "metadata": {},
          "execution_count": 60
        }
      ]
    },
    {
      "cell_type": "code",
      "source": [
        "find_Min_Difference([3,4,1,9,56,7,9,12], 5)"
      ],
      "metadata": {
        "colab": {
          "base_uri": "https://localhost:8080/"
        },
        "id": "aVoD3nOm6zSv",
        "outputId": "8a90d497-42f5-4f6e-8577-f01f9a765bc5"
      },
      "execution_count": null,
      "outputs": [
        {
          "output_type": "execute_result",
          "data": {
            "text/plain": [
              "6"
            ]
          },
          "metadata": {},
          "execution_count": 62
        }
      ]
    },
    {
      "cell_type": "code",
      "source": [
        "find_Min_Difference([3,3,3,3,3,3,3,3,3], 4)"
      ],
      "metadata": {
        "colab": {
          "base_uri": "https://localhost:8080/"
        },
        "id": "17bfUKmF652I",
        "outputId": "51083f2c-6483-4780-ede4-a0cfb4b2bd8f"
      },
      "execution_count": null,
      "outputs": [
        {
          "output_type": "execute_result",
          "data": {
            "text/plain": [
              "0"
            ]
          },
          "metadata": {},
          "execution_count": 63
        }
      ]
    },
    {
      "cell_type": "code",
      "source": [
        "find_Min_Difference([1,2,3,-4,3,2,1,5,-6,7,8,9,10], 6)"
      ],
      "metadata": {
        "colab": {
          "base_uri": "https://localhost:8080/"
        },
        "id": "nMXDt0QJ8vWJ",
        "outputId": "41ebe979-63ab-4289-95c7-04a0accc79a7"
      },
      "execution_count": null,
      "outputs": [
        {
          "output_type": "execute_result",
          "data": {
            "text/plain": [
              "2"
            ]
          },
          "metadata": {},
          "execution_count": 64
        }
      ]
    },
    {
      "cell_type": "code",
      "source": [
        "def is_Prime(a):\n",
        "    if a < 2:\n",
        "        return False\n",
        "    if a == 2:\n",
        "        return True\n",
        "    for i in range(2, int(a**0.5)+1):\n",
        "        if a % i == 0:\n",
        "            return False\n",
        "    return True"
      ],
      "metadata": {
        "id": "C_42hTkI816s"
      },
      "execution_count": null,
      "outputs": []
    },
    {
      "cell_type": "code",
      "source": [
        "is_Prime(9)"
      ],
      "metadata": {
        "colab": {
          "base_uri": "https://localhost:8080/"
        },
        "id": "3MHofwsPIE2Y",
        "outputId": "32494ca7-6d7e-4523-a9b3-324aa460077d"
      },
      "execution_count": null,
      "outputs": [
        {
          "output_type": "execute_result",
          "data": {
            "text/plain": [
              "False"
            ]
          },
          "metadata": {},
          "execution_count": 67
        }
      ]
    },
    {
      "cell_type": "code",
      "source": [
        "def odd_one(L):\n",
        "    d = {}\n",
        "    for i in range(len(L)):\n",
        "        if type(L[i]) not in d:\n",
        "            d[type(L[i])] = 0\n",
        "        else:\n",
        "            d[type(L[i])] += 1\n",
        "    for key in d:\n",
        "        if d[key] == 0:\n",
        "            return key"
      ],
      "metadata": {
        "id": "ROaiy6MKIJS3"
      },
      "execution_count": null,
      "outputs": []
    },
    {
      "cell_type": "code",
      "source": [
        "odd_one([2,13,16,4.5])"
      ],
      "metadata": {
        "colab": {
          "base_uri": "https://localhost:8080/",
          "height": 36
        },
        "id": "pwES-a7ASXWx",
        "outputId": "3db8b69e-b9ec-475a-963b-2055c9813da5"
      },
      "execution_count": null,
      "outputs": [
        {
          "output_type": "execute_result",
          "data": {
            "text/plain": [
              "\"<class 'float'>\""
            ],
            "application/vnd.google.colaboratory.intrinsic+json": {
              "type": "string"
            }
          },
          "metadata": {},
          "execution_count": 80
        }
      ]
    },
    {
      "cell_type": "code",
      "source": [
        "odd_one([1.5,2.0,3.6,1,2.6,8.6])"
      ],
      "metadata": {
        "colab": {
          "base_uri": "https://localhost:8080/"
        },
        "id": "pl6tM3ldScm2",
        "outputId": "d7ca3590-916f-4c39-cb45-4b5598f44115"
      },
      "execution_count": null,
      "outputs": [
        {
          "output_type": "execute_result",
          "data": {
            "text/plain": [
              "int"
            ]
          },
          "metadata": {},
          "execution_count": 78
        }
      ]
    },
    {
      "cell_type": "code",
      "source": [
        "type(5)"
      ],
      "metadata": {
        "colab": {
          "base_uri": "https://localhost:8080/"
        },
        "id": "guvyF-31TmxC",
        "outputId": "6ad36a99-fb54-4fab-8234-6329b4c174ff"
      },
      "execution_count": null,
      "outputs": [
        {
          "output_type": "execute_result",
          "data": {
            "text/plain": [
              "int"
            ]
          },
          "metadata": {},
          "execution_count": 75
        }
      ]
    },
    {
      "cell_type": "code",
      "source": [],
      "metadata": {
        "id": "IVwSP6EYTto1"
      },
      "execution_count": null,
      "outputs": []
    }
  ]
}